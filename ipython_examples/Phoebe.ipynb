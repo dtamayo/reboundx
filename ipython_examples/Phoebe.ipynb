{
 "cells": [
  {
   "cell_type": "markdown",
   "metadata": {},
   "source": [
    "# Adding J2 to Phoebe"
   ]
  },
  {
   "cell_type": "markdown",
   "metadata": {},
   "source": [
    "In Phoebe (https://www.phoebe-project.org/), it is necessary to model stellar systems, which are massive, compact, and with rotating components. Generally, this problem is too complex, because each star is distorted by a Roche-like potential (Horvath et al. 2020). Nevertheless, a useful approximation might be that each star is described by oblateness (J2), which acts preferentially on the closest components. Each pair of stars is thus assumed to have the rotatonal axes perpendicular to the orbital plane (e.g., Fabrycky 2010). To this point, one can use an alternative implementation of the J2 force shown here."
   ]
  },
  {
   "cell_type": "markdown",
   "metadata": {},
   "source": [
    "Let's start with a standard setup:"
   ]
  },
  {
   "cell_type": "code",
   "execution_count": 40,
   "metadata": {},
   "outputs": [],
   "source": [
    "import rebound\n",
    "from math import pi\n",
    "sim = rebound.Simulation()\n",
    "sim.add(m = 1.)\n",
    "sim.add(m = 3.e-6, a = 1., e = 0.01, inc = 0.0)\n",
    "sim.move_to_com()"
   ]
  },
  {
   "cell_type": "markdown",
   "metadata": {},
   "source": [
    "Add the J2 force:"
   ]
  },
  {
   "cell_type": "code",
   "execution_count": 41,
   "metadata": {},
   "outputs": [],
   "source": [
    "import reboundx\n",
    "rebx = reboundx.Extras(sim)\n",
    "j2 = rebx.load_force(\"j2\")\n",
    "rebx.add_force(j2)"
   ]
  },
  {
   "cell_type": "markdown",
   "metadata": {},
   "source": [
    "And the respective J2 value (unitless) and equatorial radius (au):"
   ]
  },
  {
   "cell_type": "code",
   "execution_count": 42,
   "metadata": {},
   "outputs": [],
   "source": [
    "sim.particles[0].params[\"J2\"] = 0.01\n",
    "sim.particles[0].params[\"R_eq\"] = 1/200."
   ]
  },
  {
   "cell_type": "markdown",
   "metadata": {},
   "source": [
    "We integrate as normal:"
   ]
  },
  {
   "cell_type": "code",
   "execution_count": 43,
   "metadata": {},
   "outputs": [
    {
     "name": "stdout",
     "output_type": "stream",
     "text": [
      "omega =  0.007477664536290618\n",
      "Omega =  0.0\n"
     ]
    }
   ],
   "source": [
    "import numpy as np\n",
    "\n",
    "times = np.linspace(0, 1.e4, 100)\n",
    "omegas = np.zeros(len(times))\n",
    "Omegas = np.zeros(len(times))\n",
    "\n",
    "for i, time in enumerate(times):\n",
    "    sim.integrate(time)\n",
    "    omegas[i] = sim.particles[1].omega\n",
    "    Omegas[i] = sim.particles[1].Omega\n",
    "\n",
    "print(\"omega = \", omegas[-1])\n",
    "print(\"Omega = \", Omegas[-1])"
   ]
  },
  {
   "cell_type": "markdown",
   "metadata": {},
   "source": [
    "Note: Omega does not evolve in our 'j2' model, since the oblateness is always aligned with the orbit."
   ]
  },
  {
   "cell_type": "markdown",
   "metadata": {},
   "source": [
    "Finally, let's plot the corresponding precession of omega, Omega:"
   ]
  },
  {
   "cell_type": "code",
   "execution_count": 44,
   "metadata": {},
   "outputs": [
    {
     "data": {
      "text/plain": [
       "Text(0, 0.5, 'omegas, Omegas [rad]')"
      ]
     },
     "execution_count": 44,
     "metadata": {},
     "output_type": "execute_result"
    },
    {
     "data": {
      "image/png": "[encoded data removed]",
      "text/plain": [
       "<Figure size 432x288 with 1 Axes>"
      ]
     },
     "metadata": {
      "needs_background": "light"
     },
     "output_type": "display_data"
    }
   ],
   "source": [
    "import matplotlib.pyplot as plt\n",
    "\n",
    "plt.plot(times, omegas)\n",
    "plt.plot(times, Omegas)\n",
    "plt.xlabel(\"times [d]\")\n",
    "plt.ylabel(\"omegas, Omegas [rad]\")"
   ]
  },
  {
   "cell_type": "markdown",
   "metadata": {},
   "source": [
    "As a verification, we also compute precession rates using analytical formulae (e.g., Oplistilova et al. 2020, Appendix A):"
   ]
  },
  {
   "cell_type": "code",
   "execution_count": 45,
   "metadata": {},
   "outputs": [
    {
     "name": "stdout",
     "output_type": "stream",
     "text": [
      "a1 =  0.9999999707710963  au\n",
      "e1 =  0.009998538594536205\n",
      "i1 =  0.0 rad\n",
      "m1 =  1.0 M_S\n",
      "m2 =  3e-06 M_S\n",
      "n1 =  1.000001543842298 rad (y/(2pi))^-1\n",
      "eta1 =  0.9999500133636549\n",
      "J2 =  0.01\n",
      "R1 =  0.005 au\n",
      "omegadot1 =  7.501511806163473e-07  rad (y/(2pi))^-1\n",
      "Omegadot1 =  -3.7507559030817365e-07  rad (y/(2pi))^-1\n",
      "omega1 =  0.007501511806163473  rad\n",
      "Omega1 =  -0.0037507559030817367  rad\n"
     ]
    }
   ],
   "source": [
    "from math import sqrt, cos\n",
    "\n",
    "G = sim.G\n",
    "a1 = sim.particles[1].a\n",
    "e1 = sim.particles[1].e\n",
    "i1 = sim.particles[1].inc\n",
    "m1 = sim.particles[0].m\n",
    "m2 = sim.particles[1].m\n",
    "n1 = sqrt(G*(m1+m2)/a1**3)\n",
    "eta1 = sqrt(1.-e1**2)\n",
    "J2 = sim.particles[0].params[\"J2\"]\n",
    "R1 = sim.particles[0].params[\"R_eq\"]\n",
    "\n",
    "print(\"a1 = \", a1, \" au\")\n",
    "print(\"e1 = \", e1)\n",
    "print(\"i1 = \", i1, \"rad\")\n",
    "print(\"m1 = \", m1, \"M_S\")\n",
    "print(\"m2 = \", m2, \"M_S\")\n",
    "print(\"n1 = \", n1, \"rad (y/(2pi))^-1\")\n",
    "print(\"eta1 = \", eta1)\n",
    "print(\"J2 = \", J2)\n",
    "print(\"R1 = \", R1, \"au\")\n",
    "\n",
    "omegadot1 = 3.*n1*J2*(R1/a1)**2 * (5.*(cos(i1))**2-1.)/(4.*eta1**4)\n",
    "Omegadot1 = -3./2.*n1*J2*(R1/a1)**2 * cos(i1)/eta1**4\n",
    "omega1 = omegadot1*times[-1]\n",
    "Omega1 = Omegadot1*times[-1]\n",
    "\n",
    "print(\"omegadot1 = \", omegadot1, \" rad (y/(2pi))^-1\")\n",
    "print(\"Omegadot1 = \", Omegadot1, \" rad (y/(2pi))^-1\")\n",
    "print(\"omega1 = \", omega1, \" rad\")\n",
    "print(\"Omega1 = \", Omega1, \" rad\")"
   ]
  },
  {
   "cell_type": "markdown",
   "metadata": {},
   "source": [
    "Note: These formulae are dependent on inclination w.r.t. the z-axis, however, our 'j2' model is not."
   ]
  },
  {
   "cell_type": "code",
   "execution_count": null,
   "metadata": {},
   "outputs": [],
   "source": []
  }
 ],
 "metadata": {
  "kernelspec": {
   "display_name": "Python 3",
   "language": "python",
   "name": "python3"
  },
  "language_info": {
   "codemirror_mode": {
    "name": "ipython",
    "version": 3
   },
   "file_extension": ".py",
   "mimetype": "text/x-python",
   "name": "python",
   "nbconvert_exporter": "python",
   "pygments_lexer": "ipython3",
   "version": "3.9.2"
  }
 },
 "nbformat": 4,
 "nbformat_minor": 1
}
