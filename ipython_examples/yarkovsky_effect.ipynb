{
 "cells": [
  {
   "cell_type": "markdown",
   "metadata": {
    "deletable": true,
    "editable": true
   },
   "source": [
    "# Yarkovsky Effect"
   ]
  },
  {
   "cell_type": "markdown",
   "metadata": {
    "deletable": true,
    "editable": true
   },
   "source": [
    "This example will demonstrate how to use both versions of the Reboundx Yarkovsky effect in a Rebound simulation. We will call these two versions the 'Full Version' and the 'Simple Version.' A special parameter called 'ye_flag' is used to switch between the two. The difference between the versions and what situations they're better suited for is discussed in more detail below. \n",
    "\n",
    "For more information on this effect, please visit: (implementation paper in progress) \n",
    "\n",
    "We'll start with the Full Version."
   ]
  },
  {
   "cell_type": "markdown",
   "metadata": {
    "deletable": true,
    "editable": true
   },
   "source": [
    "## Full Version"
   ]
  },
  {
   "cell_type": "markdown",
   "metadata": {
    "deletable": true,
    "editable": true
   },
   "source": [
    "This version of the effect is based off of the equations found in Veras et al. (2015). A link to the paper is provided below. The Full Version can be used to get detailed calculations of the Yarkovsky effect on a particular body. However, it requires a large amount of parameters that may be difficult to find for a particular object. It also takes more computational time due to the large amount of equations that must be calaculated between each time step of the simulation. This version of the effect can be used to get accurate calculations on how a body is perturbed by the Yarkovsky effect.\n",
    "\n",
    "Link to paper: https://ui.adsabs.harvard.edu/abs/2015MNRAS.451.2814V/abstract\n",
    "\n",
    "Below is a simple example to show how to add the effect to a simulation. First, we create a Rebound simulation with the Sun and a test particle (which will be considered an asteroid) at .5 AU."
   ]
  },
  {
   "cell_type": "code",
   "execution_count": 1,
   "metadata": {
    "collapsed": false,
    "deletable": true,
    "editable": true
   },
   "outputs": [
    {
     "name": "stdout",
     "output_type": "stream",
     "text": [
      "\n",
      "***INITIAL ORBITS:***\n",
      "<rebound.Orbit instance, a=0.5000000000000001 e=1.799893761170345e-16 inc=0.0 Omega=0.0 omega=0.0 f=0.0>\n"
     ]
    }
   ],
   "source": [
    "import rebound\n",
    "import reboundx\n",
    "import numpy as np\n",
    "import time\n",
    "\n",
    "#Simulation begins here\n",
    "sim = rebound.Simulation()\n",
    "\n",
    "sp = sim.particles #simplifies way to access particles parameters \n",
    "\n",
    "sim.units = ('yr', 'AU', 'Msun') #changes simulation and G to units of solar masses, years, and AU  \n",
    "sim.integrator = \"whfast\" #integrator for sim\n",
    "sim.dt = .05 #timestep for sim\n",
    "\n",
    "sim.add(m=1) #Adds Sun \n",
    "sim.add(a=.5, f=0, Omega=0, omega=0, e=0, inc=0, m=0) #adds test particle \n",
    "\n",
    "#Moves all particles to center of momentum frame\n",
    "sim.move_to_com()\n",
    "\n",
    "#Gives orbital information before the simulation begins\n",
    "print(\"\\n***INITIAL ORBITS:***\")\n",
    "for orbit in sim.calculate_orbits():\n",
    "    print(orbit)"
   ]
  },
  {
   "cell_type": "markdown",
   "metadata": {
    "deletable": true,
    "editable": true
   },
   "source": [
    "We then add the Yarkovsky effect from Reboundx and the required parameters for this version. Importantly, we must set 'ye_flag' to 0 to get the Full Version. As is standard for all Reboundx effects, the parameters must be inputed with the same units as the simulation (in this case it's AU/Msun/yr)."
   ]
  },
  {
   "cell_type": "code",
   "execution_count": 2,
   "metadata": {
    "collapsed": false,
    "deletable": true,
    "editable": true
   },
   "outputs": [],
   "source": [
    "#Loads the effect into Rebound\n",
    "rebx = reboundx.Extras(sim)\n",
    "yark = rebx.load_force(\"yarkovsky_effect\")\n",
    "\n",
    "#These will be used to change the units of the parameters\n",
    "au_conv = 1.495978707e11\n",
    "msun_conv = 1.9885e30\n",
    "yr_conv = 31557600.0\n",
    "\n",
    "#Converts units of parameters from m/kg/sec to AU/Msun/yr\n",
    "density = (3000.0*au_conv**3)/msun_conv #density of the object\n",
    "c = (2.998e8*yr_conv)/au_conv #speed of light\n",
    "lstar = (3.828e26*yr_conv**3)/(msun_conv*au_conv**2) #luminosity of star\n",
    "radius = 1000/au_conv #radius of object\n",
    "albedo = .017 #albedo of object\n",
    "stef_boltz = ((5.670e-8)*yr_conv**3)/(msun_conv) #Stefan-Boltzmann constant\n",
    "emissivity = .9 #emissivity of object\n",
    "k = .25 #constant between\n",
    "Gamma = (310*yr_conv**(5/2))/(msun_conv) #thermal inertia of object\n",
    "rotation_period = 15470.9/yr_conv #rotation period of object\n",
    "\n",
    "#These three parametrs decsribe the spin axis vector (or tilt) of the object\n",
    "sx = 0\n",
    "sy = 0\n",
    "sz = 1 #for now we'll assume the object has no tilt and has a spin axis perpendicular to the orbital plane \n",
    "\n",
    "#Sets the parameters for the effect\n",
    "sp[1].params[\"ye_flag\"] = 0 #setting this flag to 0 will give us the full version of the effect\n",
    "sp[1].params[\"ye_body_density\"] = density\n",
    "yark.params[\"ye_c\"] = c #set on the sim and not a particular particle\n",
    "yark.params[\"ye_lstar\"] = lstar #set on the sim and not a particular particle\n",
    "sp[1].r = radius #remember radius is not inputed as a Rebx parameter - it's inputed on the particle in the Rebound sim\n",
    "sp[1].params[\"ye_albedo\"] = albedo\n",
    "yark.params[\"ye_stef_boltz\"] = stef_boltz #set on the sim and not a particular particle\n",
    "sp[1].params[\"ye_emissivity\"] = emissivity\n",
    "sp[1].params[\"ye_k\"] = k\n",
    "sp[1].params[\"ye_thermal_inertia\"] = Gamma\n",
    "sp[1].params[\"ye_rotation_period\"] = rotation_period\n",
    "sp[1].params[\"ye_spin_axis_x\"] = sx\n",
    "sp[1].params[\"ye_spin_axis_y\"] = sy\n",
    "sp[1].params[\"ye_spin_axis_z\"] = sz\n",
    "\n",
    "rebx.add_force(yark) #adds the force to the simulation"
   ]
  },
  {
   "cell_type": "markdown",
   "metadata": {
    "deletable": true,
    "editable": true
   },
   "source": [
    "We integrate this system for 100,000 years and print out the difference between the particle's semi-major axis before and after the simulation."
   ]
  },
  {
   "cell_type": "code",
   "execution_count": 3,
   "metadata": {
    "collapsed": false,
    "deletable": true,
    "editable": true
   },
   "outputs": [
    {
     "name": "stdout",
     "output_type": "stream",
     "text": [
      "CHANGE IN SEMI-MAJOR AXIS: 1.9219170206308256e-05 AU\n",
      "\n",
      "SIMULATION RUNTIME: 3.0253553059883416 sec\n"
     ]
    }
   ],
   "source": [
    "tmax=100000 # in yrs\n",
    "\n",
    "a_start = .5 #starting semi-major axis for the asteroid\n",
    "   \n",
    "timer_start = time.perf_counter() #starts timer for sim\n",
    "\n",
    "sim.integrate(tmax) #integrates system for tmax years  \n",
    "\n",
    "timer_end = time.perf_counter() #stops timer for sim\n",
    " \n",
    "a_final = sp[1].a #semi-major axis of asteroid after the sim    \n",
    "                      \n",
    "print(\"CHANGE IN SEMI-MAJOR AXIS:\", a_final-a_start, \"AU\\n\") #prints difference between the intitial and final semi-major axes of asteroid\n",
    "print(\"SIMULATION RUNTIME:\", timer_end-timer_start, \"sec\") #prints out difference between the start and end of the timer"
   ]
  },
  {
   "cell_type": "markdown",
   "metadata": {
    "collapsed": true,
    "deletable": true,
    "editable": true
   },
   "source": [
    "## Simple Version"
   ]
  },
  {
   "cell_type": "markdown",
   "metadata": {
    "deletable": true,
    "editable": true
   },
   "source": [
    "This version of the effect is based off of equations from Veras et al. (2019). Once again, a link to this paper is provided below. This version simplifies the equations by placing constant values in a crucial rotation matrix instead of calaculating these values. It requires less parameters than the full version and takes less computational time. However, it is mostly useful only to get a general idea on how much the effect can push bodies inwards or outwards. This version of the effect is better for simulating large groups of asteroids or trying to see general trends in the behavior of a body. \n",
    "\n",
    "Link to paper: https://ui.adsabs.harvard.edu/abs/2019MNRAS.485..708V/abstract\n",
    "\n",
    "We'll use the same setup as before, but we'll also add another asteroid at .75 AU with identical physical properties. Let's start by creating a Rebound simulation again."
   ]
  },
  {
   "cell_type": "code",
   "execution_count": 4,
   "metadata": {
    "collapsed": false,
    "deletable": true,
    "editable": true
   },
   "outputs": [
    {
     "name": "stdout",
     "output_type": "stream",
     "text": [
      "\n",
      "***INITIAL ORBITS:***\n",
      "<rebound.Orbit instance, a=0.5000000000000001 e=1.799893761170345e-16 inc=0.0 Omega=0.0 omega=0.0 f=0.0>\n",
      "<rebound.Orbit instance, a=0.75 e=0.0 inc=0.0 Omega=0.0 omega=0.0 f=0.0>\n"
     ]
    }
   ],
   "source": [
    "sim = rebound.Simulation()\n",
    "\n",
    "sp = sim.particles #simplifies way to access particles parameters \n",
    "\n",
    "sim.units = ('yr', 'AU', 'Msun') #changes simulation and G to units of solar masses, years, and AU  \n",
    "sim.integrator = \"whfast\" #integrator for sim\n",
    "sim.dt = .05 #timestep for sim\n",
    "\n",
    "sim.add(m=1) #Adds Sun \n",
    "sim.add(a=.5, f=0, Omega=0, omega=0, e=0, inc=0, m=0) #adds test particle \n",
    "sim.add(a=.75, f=0, Omega=0, omega=0, e=0, inc=0, m=0) #adds a second test particle\n",
    "\n",
    "#Moves all particles to center of momentum frame\n",
    "sim.move_to_com()\n",
    "\n",
    "#Gives orbital information before the simulation begins\n",
    "print(\"\\n***INITIAL ORBITS:***\")\n",
    "for orbit in sim.calculate_orbits():\n",
    "    print(orbit)"
   ]
  },
  {
   "cell_type": "markdown",
   "metadata": {
    "deletable": true,
    "editable": true
   },
   "source": [
    "We then add the Yarkovsky effect from Reboundx and the necesary parameters for this version. This time, we must make sure that 'ye_flag' is set to 1 or -1 to get the Simple Version of the effect. Setting it to 1 will push the asteroid outwards, while setting it to -1 will push it inwards. We'll push out our original asteroid and push in our new one. "
   ]
  },
  {
   "cell_type": "code",
   "execution_count": 5,
   "metadata": {
    "collapsed": false,
    "deletable": true,
    "editable": true
   },
   "outputs": [],
   "source": [
    "#Loads the effect into Rebound\n",
    "rebx = reboundx.Extras(sim)\n",
    "yark = rebx.load_force(\"yarkovsky_effect\")\n",
    "\n",
    "#These will be used to change the units of the parameters\n",
    "au_conv = 1.495978707e11\n",
    "msun_conv = 1.9885e30\n",
    "yr_conv = 31557600.0\n",
    "\n",
    "#Converts units of parameters from m/kg/sec to AU/Msun/yr\n",
    "density = (3000*au_conv**3)/msun_conv #density of the object\n",
    "c = (2.998e8*yr_conv)/au_conv #speed of light\n",
    "lstar = (3.828e26*yr_conv**3)/(msun_conv*au_conv**2) #luminosity of star\n",
    "radius = 1000/au_conv #radius of object\n",
    "albedo = 0 #albedo of object - we'll assume it absorbs all radiation here\n",
    "\n",
    "\n",
    "\n",
    "#Sets the parameters for the effect\n",
    "yark.params[\"ye_c\"] = c #set on the sim and not a particular particle\n",
    "yark.params[\"ye_lstar\"] = lstar #set on the sim and not a particular particle\n",
    "\n",
    "sp[1].params[\"ye_flag\"] = 1 #setting this flag to 1 will give us the outward version of the effect \n",
    "sp[1].params[\"ye_body_density\"] = density\n",
    "sp[1].params[\"ye_albedo\"] = albedo\n",
    "sp[1].r = radius #remember radius is not inputed as a Rebx parameter - it's inputed on the particle in the Rebound sim \n",
    "\n",
    "sp[2].params[\"ye_flag\"] = -1 #setting this flag to -1 will give us the inward version of the effect \n",
    "sp[2].params[\"ye_body_density\"] = density\n",
    "sp[2].params[\"ye_albedo\"] = albedo\n",
    "sp[2].r = radius #remember radius is not inputed as a Rebx parameter - it's inputed on the particle in the Rebound sim\n",
    "\n",
    "\n",
    "rebx.add_force(yark) #adds the force to the simulation"
   ]
  },
  {
   "cell_type": "markdown",
   "metadata": {
    "deletable": true,
    "editable": true
   },
   "source": [
    "Now we run the sim for 100,000 years and print out the results for both asteroids. Note the difference in simulation times between the versions. Even with an extra particle, the simple version was faster than the full version."
   ]
  },
  {
   "cell_type": "code",
   "execution_count": 6,
   "metadata": {
    "collapsed": false,
    "deletable": true,
    "editable": true
   },
   "outputs": [
    {
     "name": "stdout",
     "output_type": "stream",
     "text": [
      "CHANGE IN SEMI-MAJOR AXIS(Asteroid 1): 4.251832339163819e-05 AU\n",
      "\n",
      "CHANGE IN SEMI-MAJOR AXIS(Asteroid 2): -3.4717212015644705e-05 AU\n",
      "\n",
      "SIMULATION RUNTIME: 2.711964145884849 sec\n"
     ]
    }
   ],
   "source": [
    "tmax=100000 # in yrs\n",
    "\n",
    "a_start_1 = .5 #starting semi-major axis for the 1st asteroid\n",
    "a_start_2 = .75 #starting semi-major axis for the 2nd asteroid\n",
    "\n",
    "timer_start = time.perf_counter() #starts timer for sim\n",
    "\n",
    "sim.integrate(tmax) #integrates system for tmax years    \n",
    "\n",
    "timer_end = time.perf_counter() #stops timer for sim\n",
    " \n",
    "a_final_1 = sp[1].a #semi-major axis of 1st asteroid after the sim\n",
    "a_final_2 = sp[2].a #semi-major axis of 2nd asteroid after the sim\n",
    "                      \n",
    "print(\"CHANGE IN SEMI-MAJOR AXIS(Asteroid 1):\", a_final_1-a_start_1, \"AU\\n\")\n",
    "print(\"CHANGE IN SEMI-MAJOR AXIS(Asteroid 2):\", a_final_2-a_start_2, \"AU\\n\")\n",
    "print(\"SIMULATION RUNTIME:\", timer_end-timer_start, \"sec\") #prints out difference between the start and end of the timer"
   ]
  }
 ],
 "metadata": {
  "kernelspec": {
   "display_name": "Python 3",
   "language": "python",
   "name": "python3"
  },
  "language_info": {
   "codemirror_mode": {
    "name": "ipython",
    "version": 3
   },
   "file_extension": ".py",
   "mimetype": "text/x-python",
   "name": "python",
   "nbconvert_exporter": "python",
   "pygments_lexer": "ipython3",
   "version": "3.5.2"
  }
 },
 "nbformat": 4,
 "nbformat_minor": 2
}
