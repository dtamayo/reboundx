{
 "cells": [
  {
   "cell_type": "markdown",
   "metadata": {},
   "source": [
    "# Adding Post-Newtonian general relativity corrections\n",
    "\n",
    "It's easy to add post-newtonian corrections to your REBOUND simulations with REBOUNDx.  Let's start with a simulation without GR:"
   ]
  },
  {
   "cell_type": "code",
   "execution_count": 1,
   "metadata": {},
   "outputs": [
    {
     "name": "stdout",
     "output_type": "stream",
     "text": [
      "pomega = 0.0000000000000000\n"
     ]
    }
   ],
   "source": [
    "import rebound\n",
    "sim = rebound.Simulation()\n",
    "sim.add(m=1., hash=\"star\") # Sun\n",
    "sim.add(m=1.66013e-07,a=0.387098,e=0.205630, hash=\"planet\") # Mercury-like\n",
    "sim.move_to_com() # Moves to the center of momentum frame\n",
    "ps = sim.particles\n",
    "\n",
    "sim.integrate(10.)\n",
    "print(\"pomega = %.16f\"%sim.particles[1].pomega)"
   ]
  },
  {
   "cell_type": "markdown",
   "metadata": {},
   "source": [
    "As expected, the pericenter did not move at all.  Now let's add GR"
   ]
  },
  {
   "cell_type": "code",
   "execution_count": 2,
   "metadata": {},
   "outputs": [],
   "source": [
    "import reboundx\n",
    "rebx = reboundx.Extras(sim)\n",
    "gr = rebx.load_force(\"gr\")\n",
    "rebx.add_force(gr)"
   ]
  },
  {
   "cell_type": "markdown",
   "metadata": {},
   "source": [
    "The GR effects need you to set the speed of light in the right units.  The constants module has a set of constants in REBOUND's default units of AU, solar masses and yr/$2\\pi$ (such that `G`=1).  If you want to use other units, you'd need to calculate `c`.  "
   ]
  },
  {
   "cell_type": "code",
   "execution_count": 3,
   "metadata": {},
   "outputs": [],
   "source": [
    "from reboundx import constants\n",
    "gr.params[\"c\"] = constants.C"
   ]
  },
  {
   "cell_type": "markdown",
   "metadata": {},
   "source": [
    "By default, the `gr` and `gr_potential` effects assume that the massive particle is at index 0 (with `gr_full` all particles are \"sources\" so this is not an issue).  If the massive particle has a different index, or you think it might move from index 0 in the particles array (e.g. due to a custom merger routine), you can attach a `gr_source` flag to it to identify it as the massive particle with:"
   ]
  },
  {
   "cell_type": "code",
   "execution_count": 4,
   "metadata": {},
   "outputs": [],
   "source": [
    "ps[\"star\"].params[\"gr_source\"] = 1"
   ]
  },
  {
   "cell_type": "markdown",
   "metadata": {},
   "source": [
    "Now we integrate as normal. We monitor the total Hamiltonian. Unlike other forces where we can  calculate a separate potential, here and with `gr_full` the forces are velocity dependent, which means the momentum is not just mv in a Hamiltonian framework. So rather than using `sim.energy`  and adding a potential, `gr_hamiltonian` calculates the full thing (classical Hamiltonian + gr). "
   ]
  },
  {
   "cell_type": "code",
   "execution_count": 5,
   "metadata": {},
   "outputs": [
    {
     "name": "stdout",
     "output_type": "stream",
     "text": [
      "pomega = 0.0000332591781488\n",
      "Rate of change of pomega = 43.1048 [arcsec / Julian century]\n",
      "Relative error on the relativistic Hamiltonian = 1.3578502228769841e-15\n"
     ]
    }
   ],
   "source": [
    "deltat = 100.\n",
    "E0 = rebx.gr_hamiltonian(gr)\n",
    "sim.integrate(sim.t + deltat)\n",
    "Ef = rebx.gr_hamiltonian(gr)\n",
    "\n",
    "print(\"pomega = %.16f\"%sim.particles[1].pomega)\n",
    "juliancentury = 628.33195 # in yr/2pi\n",
    "arcsec = 4.8481368e-06 # in rad\n",
    "print(\"Rate of change of pomega = %.4f [arcsec / Julian century]\"% (sim.particles[1].pomega/deltat*juliancentury/arcsec))\n",
    "print(\"Relative error on the relativistic Hamiltonian = {0}\".format(abs(Ef-E0)/abs(E0)))"
   ]
  },
  {
   "cell_type": "markdown",
   "metadata": {},
   "source": [
    "As expected, there was pericenter precession. The literature value is 42.98 arcsec / century.   "
   ]
  },
  {
   "cell_type": "markdown",
   "metadata": {},
   "source": [
    "**Variants**\n",
    "\n",
    "Above we added the `gr` effect, but there are two other implementations `gr_potential` and `gr_full`.  Before running any serious simulations, you should read the more detailed descriptions at https://reboundx.readthedocs.io/en/latest/effects.html to see which implementation is appropriate for your application."
   ]
  }
 ],
 "metadata": {
  "kernelspec": {
   "display_name": "Python 3",
   "language": "python",
   "name": "python3"
  },
  "language_info": {
   "codemirror_mode": {
    "name": "ipython",
    "version": 3
   },
   "file_extension": ".py",
   "mimetype": "text/x-python",
   "name": "python",
   "nbconvert_exporter": "python",
   "pygments_lexer": "ipython3",
   "version": "3.7.1"
  }
 },
 "nbformat": 4,
 "nbformat_minor": 1
}
